{
 "cells": [
  {
   "cell_type": "code",
   "execution_count": 1,
   "id": "256baa95",
   "metadata": {},
   "outputs": [],
   "source": [
    "import sys\n",
    "sys.path.append('/accounts/grad/zhangyunzhe2023/tlide')\n",
    "\n",
    "from typing import List, Optional\n",
    "from llama import Dialog, Llama\n",
    "\n",
    "import os\n",
    "import torch\n",
    "import torch.distributed as dist\n",
    "\n",
    "# choose any free port\n",
    "os.environ.setdefault(\"MASTER_ADDR\", \"127.0.0.1\")\n",
    "os.environ.setdefault(\"MASTER_PORT\", \"29500\")\n",
    "os.environ.setdefault(\"RANK\", \"0\")\n",
    "os.environ.setdefault(\"WORLD_SIZE\", \"1\")\n",
    "os.environ.setdefault(\"LOCAL_RANK\", \"0\")\n",
    "\n",
    "# if you have a CUDA GPU, use 'nccl'; otherwise use 'gloo'\n",
    "backend = \"nccl\" if torch.cuda.is_available() else \"gloo\"\n",
    "if backend == \"nccl\":\n",
    "    torch.cuda.set_device(0)\n",
    "\n",
    "dist.init_process_group(backend=backend)"
   ]
  },
  {
   "cell_type": "code",
   "execution_count": 2,
   "id": "7724c101",
   "metadata": {},
   "outputs": [
    {
     "name": "stdout",
     "output_type": "stream",
     "text": [
      "> initializing model parallel with size 1\n",
      "> initializing ddp with size 1\n",
      "> initializing pipeline with size 1\n"
     ]
    },
    {
     "name": "stderr",
     "output_type": "stream",
     "text": [
      "/scratch/users/zhangyunzhe2023/conda/envs/torch28/lib/python3.13/site-packages/torch/__init__.py:1264: UserWarning: torch.set_default_tensor_type() is deprecated as of PyTorch 2.1, please use torch.set_default_dtype() and torch.set_default_device() as alternatives. (Triggered internally at /pytorch/torch/csrc/tensor/python_tensor.cpp:434.)\n",
      "  _C._set_default_tensor_type(t)\n"
     ]
    },
    {
     "name": "stdout",
     "output_type": "stream",
     "text": [
      "Loaded in 2.49 seconds\n"
     ]
    }
   ],
   "source": [
    "generator = Llama.build(\n",
    "    ckpt_dir='/accounts/grad/zhangyunzhe2023/.llama/checkpoints/Llama3.2-1B-Instruct',\n",
    "    tokenizer_path='/accounts/grad/zhangyunzhe2023/.llama/checkpoints/Llama3.2-1B-Instruct/tokenizer.model',\n",
    "    max_seq_len=8192,\n",
    "    max_batch_size=1,\n",
    ")"
   ]
  },
  {
   "cell_type": "code",
   "execution_count": null,
   "id": "62c86e3a",
   "metadata": {},
   "outputs": [],
   "source": []
  }
 ],
 "metadata": {
  "kernelspec": {
   "display_name": "torch28",
   "language": "python",
   "name": "torch28"
  },
  "language_info": {
   "codemirror_mode": {
    "name": "ipython",
    "version": 3
   },
   "file_extension": ".py",
   "mimetype": "text/x-python",
   "name": "python",
   "nbconvert_exporter": "python",
   "pygments_lexer": "ipython3",
   "version": "3.13.5"
  }
 },
 "nbformat": 4,
 "nbformat_minor": 5
}
