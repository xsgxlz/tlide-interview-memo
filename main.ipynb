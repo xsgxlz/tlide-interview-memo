{
 "cells": [
  {
   "cell_type": "code",
   "execution_count": 1,
   "id": "256baa95",
   "metadata": {},
   "outputs": [],
   "source": [
    "import sys\n",
    "sys.path.append('/accounts/grad/zhangyunzhe2023/tlide')\n",
    "\n",
    "from typing import List, Optional\n",
    "from llama import Dialog, Llama\n",
    "\n",
    "import os\n",
    "import torch\n",
    "import torch.distributed as dist\n",
    "\n",
    "# choose any free port\n",
    "os.environ.setdefault(\"MASTER_ADDR\", \"127.0.0.1\")\n",
    "os.environ.setdefault(\"MASTER_PORT\", \"29500\")\n",
    "os.environ.setdefault(\"RANK\", \"0\")\n",
    "os.environ.setdefault(\"WORLD_SIZE\", \"1\")\n",
    "os.environ.setdefault(\"LOCAL_RANK\", \"0\")\n",
    "\n",
    "# if you have a CUDA GPU, use 'nccl'; otherwise use 'gloo'\n",
    "backend = \"nccl\" if torch.cuda.is_available() else \"gloo\"\n",
    "if backend == \"nccl\":\n",
    "    torch.cuda.set_device(0)\n",
    "\n",
    "dist.init_process_group(backend=backend)"
   ]
  },
  {
   "cell_type": "code",
   "execution_count": 2,
   "id": "7724c101",
   "metadata": {},
   "outputs": [
    {
     "name": "stdout",
     "output_type": "stream",
     "text": [
      "> initializing model parallel with size 1\n",
      "> initializing ddp with size 1\n",
      "> initializing pipeline with size 1\n"
     ]
    },
    {
     "name": "stderr",
     "output_type": "stream",
     "text": [
      "/scratch/users/zhangyunzhe2023/conda/envs/torch28/lib/python3.13/site-packages/torch/__init__.py:1264: UserWarning: torch.set_default_tensor_type() is deprecated as of PyTorch 2.1, please use torch.set_default_dtype() and torch.set_default_device() as alternatives. (Triggered internally at /pytorch/torch/csrc/tensor/python_tensor.cpp:434.)\n",
      "  _C._set_default_tensor_type(t)\n"
     ]
    },
    {
     "name": "stdout",
     "output_type": "stream",
     "text": [
      "Loaded in 7.42 seconds\n"
     ]
    }
   ],
   "source": [
    "generator = Llama.build(\n",
    "    ckpt_dir='/accounts/grad/zhangyunzhe2023/.llama/checkpoints/Llama3.2-1B',\n",
    "    tokenizer_path='/accounts/grad/zhangyunzhe2023/.llama/checkpoints/Llama3.2-1B/tokenizer.model',\n",
    "    max_seq_len=8192,\n",
    "    max_batch_size=1,\n",
    ")\n",
    "\n",
    "tokenizer = generator.tokenizer\n",
    "model = generator.model.eval()\n",
    "params = generator.model.params"
   ]
  },
  {
   "cell_type": "code",
   "execution_count": 3,
   "id": "796de12c",
   "metadata": {},
   "outputs": [],
   "source": [
    "from datasets import load_dataset\n",
    "dataset = load_dataset('THUDM/LongBench-v2', split='train')"
   ]
  },
  {
   "cell_type": "code",
   "execution_count": 4,
   "id": "e5ac247d",
   "metadata": {},
   "outputs": [],
   "source": [
    "text = dataset[0]['context']\n",
    "start = text.find('\\n')\n",
    "text = text[start+1:]\n",
    "\n",
    "prompts: List[str] = [text]"
   ]
  },
  {
   "cell_type": "code",
   "execution_count": 10,
   "id": "1e38a977",
   "metadata": {},
   "outputs": [],
   "source": [
    "prompt_tokens = [tokenizer.encode(prompts[0], bos=True, eos=False)]\n",
    "bsz = 1\n",
    "pad_id = tokenizer.pad_id\n",
    "tokens = torch.tensor(prompt_tokens, dtype=torch.long, device=\"cuda\")\n",
    "\n",
    "model.clear_cache()\n",
    "result = []\n",
    "for pos in range(10):\n",
    "    result.append(model.forward(tokens[:, pos:pos+1], pos, return_last_hidden=True))"
   ]
  },
  {
   "cell_type": "code",
   "execution_count": 9,
   "id": "a378c1ee",
   "metadata": {},
   "outputs": [
    {
     "data": {
      "text/plain": [
       "tensor([[[ 1.4498,  1.9637,  1.7737,  ..., -5.3823, -4.5258,  0.7892]]])"
      ]
     },
     "execution_count": 9,
     "metadata": {},
     "output_type": "execute_result"
    }
   ],
   "source": [
    "model.forward(tokens[:, 1:2], 1, return_last_hidden=True)"
   ]
  },
  {
   "cell_type": "code",
   "execution_count": null,
   "id": "fc24c64b",
   "metadata": {},
   "outputs": [],
   "source": [
    "max_gen_len = 100\n",
    "\n",
    "\n",
    "prompt_tokens = [tokenizer.encode(x, bos=True, eos=False) for x in prompts]\n",
    "\n",
    "params = generator.model.params\n",
    "bsz = len(prompt_tokens)\n",
    "assert bsz <= params.max_batch_size, (bsz, params.max_batch_size)\n",
    "\n",
    "min_prompt_len = min(len(t) for t in prompt_tokens)\n",
    "max_prompt_len = max(len(t) for t in prompt_tokens)\n",
    "assert max_prompt_len <= params.max_seq_len\n",
    "total_len = min(params.max_seq_len, max_gen_len + max_prompt_len)\n",
    "\n",
    "pad_id = tokenizer.pad_id\n",
    "tokens = torch.full((bsz, total_len), pad_id, dtype=torch.long, device=\"cuda\")\n",
    "\n",
    "for k, t in enumerate(prompt_tokens):\n",
    "    tokens[k, : len(t)] = torch.tensor(t, dtype=torch.long, device=\"cuda\")\n",
    "\n",
    "prev_pos = 0\n",
    "eos_reached = torch.tensor([False] * bsz, device=\"cuda\")\n",
    "input_text_mask = tokens != pad_id\n",
    "\n",
    "stop_tokens = torch.tensor(list(tokenizer.stop_tokens))"
   ]
  },
  {
   "cell_type": "code",
   "execution_count": 5,
   "id": "8b633371",
   "metadata": {},
   "outputs": [],
   "source": [
    "cur_pos = min_prompt_len\n",
    "logits = model.forward(tokens[:, prev_pos:cur_pos], prev_pos)\n",
    "next_token = torch.argmax(logits[:, -1], dim=-1)"
   ]
  },
  {
   "cell_type": "code",
   "execution_count": null,
   "id": "91759dc0",
   "metadata": {},
   "outputs": [],
   "source": []
  },
  {
   "cell_type": "code",
   "execution_count": 23,
   "id": "e01c030a",
   "metadata": {},
   "outputs": [
    {
     "data": {
      "text/plain": [
       "tensor(1)"
      ]
     },
     "execution_count": 23,
     "metadata": {},
     "output_type": "execute_result"
    }
   ],
   "source": [
    "8192 - (model.layers[0].attention.cache_k == 0).all(dim=-1).all(dim=-1).sum()"
   ]
  },
  {
   "cell_type": "code",
   "execution_count": null,
   "id": "9b5b8f6a",
   "metadata": {},
   "outputs": [],
   "source": []
  },
  {
   "cell_type": "code",
   "execution_count": null,
   "id": "996b5920",
   "metadata": {},
   "outputs": [],
   "source": [
    "\n"
   ]
  },
  {
   "cell_type": "code",
   "execution_count": 12,
   "id": "513679fb",
   "metadata": {},
   "outputs": [
    {
     "data": {
      "text/plain": [
       "ModelArgs(dim=2048, n_layers=16, n_heads=32, n_kv_heads=8, vocab_size=128256, multiple_of=256, ffn_dim_multiplier=1.5, norm_eps=1e-05, rope_theta=500000.0, max_batch_size=1, max_seq_len=8192, use_scaled_rope=True)"
      ]
     },
     "execution_count": 12,
     "metadata": {},
     "output_type": "execute_result"
    }
   ],
   "source": [
    "params"
   ]
  },
  {
   "cell_type": "code",
   "execution_count": null,
   "id": "62c86e3a",
   "metadata": {},
   "outputs": [],
   "source": []
  }
 ],
 "metadata": {
  "kernelspec": {
   "display_name": "torch28",
   "language": "python",
   "name": "torch28"
  }
 },
 "nbformat": 4,
 "nbformat_minor": 5
}
