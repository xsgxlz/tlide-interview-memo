{
 "cells": [
  {
   "cell_type": "code",
   "execution_count": 1,
   "id": "256baa95",
   "metadata": {},
   "outputs": [],
   "source": [
    "import sys\n",
    "sys.path.append('/accounts/grad/zhangyunzhe2023/tlide')\n",
    "\n",
    "from typing import List, Optional\n",
    "from llama import Dialog, Llama\n",
    "\n",
    "import os\n",
    "import torch\n",
    "import torch.distributed as dist\n",
    "\n",
    "# choose any free port\n",
    "os.environ.setdefault(\"MASTER_ADDR\", \"127.0.0.1\")\n",
    "os.environ.setdefault(\"MASTER_PORT\", \"29500\")\n",
    "os.environ.setdefault(\"RANK\", \"0\")\n",
    "os.environ.setdefault(\"WORLD_SIZE\", \"1\")\n",
    "os.environ.setdefault(\"LOCAL_RANK\", \"0\")\n",
    "\n",
    "# if you have a CUDA GPU, use 'nccl'; otherwise use 'gloo'\n",
    "backend = \"nccl\" if torch.cuda.is_available() else \"gloo\"\n",
    "if backend == \"nccl\":\n",
    "    torch.cuda.set_device(0)\n",
    "\n",
    "dist.init_process_group(backend=backend)"
   ]
  },
  {
   "cell_type": "code",
   "execution_count": 2,
   "id": "7724c101",
   "metadata": {},
   "outputs": [
    {
     "name": "stdout",
     "output_type": "stream",
     "text": [
      "> initializing model parallel with size 1\n",
      "> initializing ddp with size 1\n",
      "> initializing pipeline with size 1\n"
     ]
    },
    {
     "name": "stderr",
     "output_type": "stream",
     "text": [
      "/scratch/users/zhangyunzhe2023/conda/envs/torch28/lib/python3.13/site-packages/torch/__init__.py:1264: UserWarning: torch.set_default_tensor_type() is deprecated as of PyTorch 2.1, please use torch.set_default_dtype() and torch.set_default_device() as alternatives. (Triggered internally at /pytorch/torch/csrc/tensor/python_tensor.cpp:434.)\n",
      "  _C._set_default_tensor_type(t)\n"
     ]
    },
    {
     "name": "stdout",
     "output_type": "stream",
     "text": [
      "Loaded in 7.53 seconds\n"
     ]
    }
   ],
   "source": [
    "generator = Llama.build(\n",
    "    ckpt_dir='/accounts/grad/zhangyunzhe2023/.llama/checkpoints/Llama3.2-1B',\n",
    "    tokenizer_path='/accounts/grad/zhangyunzhe2023/.llama/checkpoints/Llama3.2-1B/tokenizer.model',\n",
    "    max_seq_len=8192,\n",
    "    max_batch_size=1,\n",
    ")\n",
    "\n",
    "tokenizer = generator.tokenizer\n",
    "model = generator.model.eval()\n",
    "params = generator.model.params"
   ]
  },
  {
   "cell_type": "code",
   "execution_count": 3,
   "id": "796de12c",
   "metadata": {},
   "outputs": [],
   "source": [
    "from datasets import load_dataset\n",
    "dataset = load_dataset('THUDM/LongBench-v2', split='train')"
   ]
  },
  {
   "cell_type": "code",
   "execution_count": 4,
   "id": "e5ac247d",
   "metadata": {},
   "outputs": [],
   "source": [
    "text = dataset[0]['context']\n",
    "start = text.find('\\n')\n",
    "text = text[start+1:]\n",
    "\n",
    "prompts: List[str] = [text]"
   ]
  },
  {
   "cell_type": "code",
   "execution_count": 5,
   "id": "1e38a977",
   "metadata": {},
   "outputs": [],
   "source": [
    "prompt_tokens = [tokenizer.encode(prompts[0], bos=True, eos=False)]\n",
    "bsz = 1\n",
    "pad_id = tokenizer.pad_id\n",
    "tokens = torch.tensor(prompt_tokens, dtype=torch.long, device=\"cuda\")\n",
    "\n",
    "model.clear_cache()\n",
    "result = []\n",
    "for pos in range(10):\n",
    "    result.append(model.forward(tokens[:, pos:pos+1], pos, return_last_hidden=True))"
   ]
  },
  {
   "cell_type": "code",
   "execution_count": 6,
   "id": "c91807a7",
   "metadata": {},
   "outputs": [
    {
     "data": {
      "text/plain": [
       "[tensor([[[ 1.5497, -1.5041,  2.7454,  ..., -0.6332,  0.6005, -1.0105]]]),\n",
       " tensor([[[ 1.4498,  1.9637,  1.7737,  ..., -5.3823, -4.5258,  0.7892]]]),\n",
       " tensor([[[ 1.5561,  2.8498,  1.6540,  ..., -5.0222, -6.0117,  0.2023]]]),\n",
       " tensor([[[ 1.6423,  1.3369,  1.3579,  ..., -3.9708, -5.2786,  0.1533]]]),\n",
       " tensor([[[ 0.4390,  3.5919,  2.9129,  ..., -2.9547, -5.5047,  2.7879]]]),\n",
       " tensor([[[ 1.9188,  2.7424,  2.0267,  ..., -4.7778, -6.0142,  0.5419]]]),\n",
       " tensor([[[-1.7211,  3.6688, -0.9305,  ..., -2.4419, -1.9752,  1.2490]]]),\n",
       " tensor([[[ 0.7205,  1.4898,  1.1228,  ..., -5.8459, -4.8139, -1.0883]]]),\n",
       " tensor([[[ 0.5390,  5.1830,  1.7469,  ..., -6.2586, -4.5494, -3.0995]]]),\n",
       " tensor([[[ 1.2807,  1.1994,  4.4573,  ..., -5.2102, -2.5543, -1.8037]]])]"
      ]
     },
     "execution_count": 6,
     "metadata": {},
     "output_type": "execute_result"
    }
   ],
   "source": [
    "result"
   ]
  }
 ],
 "metadata": {
  "kernelspec": {
   "display_name": "torch28",
   "language": "python",
   "name": "torch28"
  },
  "language_info": {
   "codemirror_mode": {
    "name": "ipython",
    "version": 3
   },
   "file_extension": ".py",
   "mimetype": "text/x-python",
   "name": "python",
   "nbconvert_exporter": "python",
   "pygments_lexer": "ipython3",
   "version": "3.13.5"
  }
 },
 "nbformat": 4,
 "nbformat_minor": 5
}
